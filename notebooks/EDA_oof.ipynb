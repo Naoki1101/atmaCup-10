{
 "cells": [
  {
   "cell_type": "code",
   "execution_count": null,
   "metadata": {},
   "outputs": [],
   "source": [
    "import sys\n",
    "\n",
    "import numpy as np\n",
    "import pandas as pd\n",
    "\n",
    "%matplotlib inline\n",
    "import matplotlib.pyplot as plt\n",
    "import seaborn as sns\n",
    "\n",
    "sys.path.append('../src')\n",
    "import const"
   ]
  },
  {
   "cell_type": "code",
   "execution_count": null,
   "metadata": {},
   "outputs": [],
   "source": [
    "log_dir = const.LOG_DIR / 'lightgbm_012_20210311224100_1.0207'"
   ]
  },
  {
   "cell_type": "code",
   "execution_count": null,
   "metadata": {},
   "outputs": [],
   "source": [
    "oof = np.load(log_dir / 'oof.npy')\n",
    "imp_df = pd.read_csv(log_dir / 'importance.csv')\n",
    "\n",
    "train_df = pd.read_csv(const.INPUT_DATA_DIR / 'train.csv')"
   ]
  },
  {
   "cell_type": "code",
   "execution_count": null,
   "metadata": {},
   "outputs": [],
   "source": [
    "train_df['oof'] = oof"
   ]
  },
  {
   "cell_type": "code",
   "execution_count": null,
   "metadata": {},
   "outputs": [],
   "source": [
    "plt.figure(figsize=(8, 8))\n",
    "plt.scatter(np.log1p(train_df['likes']), np.log1p(train_df['oof']))\n",
    "plt.plot([-1, 12], [-1, 12], c='orange')\n",
    "\n",
    "th = 4\n",
    "plt.plot([-1, 12], [-1-th, 12-th], c='red')\n",
    "plt.plot([-1, 12], [-1+th, 12+th], c='red')\n",
    "plt.xlim([-0.5, 11])\n",
    "plt.ylim([-0.5, 11])\n",
    "plt.grid()"
   ]
  },
  {
   "cell_type": "code",
   "execution_count": null,
   "metadata": {
    "scrolled": true
   },
   "outputs": [],
   "source": [
    "plt.figure(figsize=(16, 30))\n",
    "sns.barplot(x='importance', y='feature', data=imp_df.sort_values(by='importance', ascending=False).head(100))"
   ]
  },
  {
   "cell_type": "code",
   "execution_count": null,
   "metadata": {
    "scrolled": true
   },
   "outputs": [],
   "source": [
    "# a = imp_df.groupby('feature')['importance'].mean()\n",
    "# cols = sorted(a[a > 0].index)\n",
    "# for col in cols:\n",
    "#     print(f'    - {col}')"
   ]
  },
  {
   "cell_type": "code",
   "execution_count": null,
   "metadata": {},
   "outputs": [],
   "source": [
    "train_df['diff'] = np.log1p(train_df['likes']) - np.log1p(train_df['oof'])"
   ]
  },
  {
   "cell_type": "code",
   "execution_count": null,
   "metadata": {
    "scrolled": true
   },
   "outputs": [],
   "source": [
    "train_df[train_df['diff'] >= th][train_df['likes'] <= np.exp(8)]"
   ]
  },
  {
   "cell_type": "code",
   "execution_count": null,
   "metadata": {},
   "outputs": [],
   "source": []
  }
 ],
 "metadata": {
  "kernelspec": {
   "display_name": "main",
   "language": "python",
   "name": "main"
  },
  "language_info": {
   "codemirror_mode": {
    "name": "ipython",
    "version": 3
   },
   "file_extension": ".py",
   "mimetype": "text/x-python",
   "name": "python",
   "nbconvert_exporter": "python",
   "pygments_lexer": "ipython3",
   "version": "3.8.5"
  }
 },
 "nbformat": 4,
 "nbformat_minor": 4
}
